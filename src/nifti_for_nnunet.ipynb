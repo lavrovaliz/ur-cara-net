{
 "cells": [
  {
   "cell_type": "code",
   "execution_count": 1,
   "metadata": {},
   "outputs": [],
   "source": [
    "import os\n",
    "import glob\n",
    "import shutil"
   ]
  },
  {
   "cell_type": "code",
   "execution_count": 12,
   "metadata": {},
   "outputs": [],
   "source": [
    "or_dir_name = r\"C:\\Users\\E.Lavrova\\Documents\\GitHub\\plaqueuqalp\\res\\nifti\"\n",
    "nn_dir_name = r\"D:\\Lisa\\nnUNet_raw_data_base\\nnUNet_raw_data\\Task001_CA\""
   ]
  },
  {
   "cell_type": "code",
   "execution_count": 7,
   "metadata": {},
   "outputs": [],
   "source": [
    "sub_names = os.listdir(or_dir_name)"
   ]
  },
  {
   "cell_type": "code",
   "execution_count": 14,
   "metadata": {},
   "outputs": [],
   "source": [
    "sub_names_test = ['AMC012', 'AMC006', 'MUMC094', 'MUMC027', 'MUMC079', 'MUMC052', 'MUMC127', 'MUMC071', 'MUMC038',\n",
    "                  'MUMC093', 'MUMC107', 'MUMC022', 'MUMC114', 'MUMC115', 'MUMC069', 'MUMC130', 'MUMC036', 'MUMC007', \n",
    "                  'MUMC059', 'MUMC080', 'UMCU036', 'UMCU025', 'UMCU008', 'UMCU034']"
   ]
  },
  {
   "cell_type": "code",
   "execution_count": 9,
   "metadata": {},
   "outputs": [],
   "source": [
    "for sub_name in sub_names:\n",
    "    if (sub_name not in sub_names_test)&(sub_name[0]!='E'):\n",
    "        sub_dir_name = os.path.join(or_dir_name, sub_name)\n",
    "        shutil.copy(sub_dir_name+'/img_T1w.nii.gz', nn_dir_name+'/imagesTr/'+sub_name+'_0000.nii.gz')\n",
    "        shutil.copy(sub_dir_name+'/mask_GT.nii.gz', nn_dir_name+'/labelsTr/'+sub_name+'.nii.gz')"
   ]
  },
  {
   "cell_type": "code",
   "execution_count": 10,
   "metadata": {},
   "outputs": [],
   "source": [
    "for sub_name in sub_names_test:\n",
    "    \n",
    "    sub_dir_name = os.path.join(or_dir_name, sub_name)\n",
    "    shutil.copy(sub_dir_name+'/img_T1w.nii.gz', nn_dir_name+'/imagesTs1/'+sub_name+'_0000.nii.gz')\n",
    "    shutil.copy(sub_dir_name+'/mask_GT.nii.gz', nn_dir_name+'/labelsTs1/'+sub_name+'.nii.gz')"
   ]
  },
  {
   "cell_type": "code",
   "execution_count": 15,
   "metadata": {},
   "outputs": [],
   "source": [
    "for sub_name in sub_names_test:\n",
    "    \n",
    "    sub_dir_name = os.path.join(or_dir_name, sub_name)\n",
    "    shutil.copy(sub_dir_name+'/img_T2w.nii.gz', nn_dir_name+'/imagesTs2/'+sub_name+'_0000.nii.gz')\n",
    "    shutil.copy(sub_dir_name+'/mask_GT.nii.gz', nn_dir_name+'/labelsTs2/'+sub_name+'.nii.gz')"
   ]
  },
  {
   "cell_type": "code",
   "execution_count": 16,
   "metadata": {},
   "outputs": [],
   "source": [
    "for sub_name in sub_names_test:\n",
    "    \n",
    "    sub_dir_name = os.path.join(or_dir_name, sub_name)\n",
    "    shutil.copy(sub_dir_name+'/img_T1wCE.nii.gz', nn_dir_name+'/imagesTs3/'+sub_name+'_0000.nii.gz')\n",
    "    shutil.copy(sub_dir_name+'/mask_GT.nii.gz', nn_dir_name+'/labelsTs3/'+sub_name+'.nii.gz')"
   ]
  },
  {
   "cell_type": "code",
   "execution_count": 17,
   "metadata": {},
   "outputs": [],
   "source": [
    "sub_names_emc = ['EMC003', 'EMC004', 'EMC005', 'EMC007',\n",
    "                  'EMC008', 'EMC009', 'EMC011', 'EMC015', 'EMC018', 'EMC020', 'EMC024', 'EMC027', 'EMC029', 'EMC031', \n",
    "                  'EMC032', 'EMC034', 'EMC035', 'EMC036', 'EMC038', 'EMC041', 'EMC042', 'EMC043', 'EMC045', 'EMC046', \n",
    "                  'EMC047', 'EMC048', 'EMC049', 'EMC050', 'EMC051', 'EMC052', 'EMC054', 'EMC055', 'EMC056', 'EMC057']"
   ]
  },
  {
   "cell_type": "code",
   "execution_count": 18,
   "metadata": {},
   "outputs": [],
   "source": [
    "for sub_name in sub_names_emc:\n",
    "    \n",
    "    sub_dir_name = os.path.join(or_dir_name, sub_name)\n",
    "    shutil.copy(sub_dir_name+'/img_T1w.nii.gz', nn_dir_name+'/imagesTs4/'+sub_name+'_0000.nii.gz')\n",
    "    shutil.copy(sub_dir_name+'/mask_GT.nii.gz', nn_dir_name+'/labelsTs4/'+sub_name+'.nii.gz')"
   ]
  },
  {
   "cell_type": "code",
   "execution_count": null,
   "metadata": {},
   "outputs": [],
   "source": []
  }
 ],
 "metadata": {
  "kernelspec": {
   "display_name": "Python 3",
   "language": "python",
   "name": "python3"
  },
  "language_info": {
   "codemirror_mode": {
    "name": "ipython",
    "version": 3
   },
   "file_extension": ".py",
   "mimetype": "text/x-python",
   "name": "python",
   "nbconvert_exporter": "python",
   "pygments_lexer": "ipython3",
   "version": "3.7.3"
  }
 },
 "nbformat": 4,
 "nbformat_minor": 2
}
